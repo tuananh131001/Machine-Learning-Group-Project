{
 "cells": [
  {
   "cell_type": "markdown",
   "id": "765f9435",
   "metadata": {},
   "source": [
    "![Cancer](https://media2.giphy.com/media/sCqnpiUFN228E/giphy.gif)"
   ]
  },
  {
   "cell_type": "markdown",
   "id": "b978f40a",
   "metadata": {},
   "source": [
    "# Introduction"
   ]
  },
  {
   "cell_type": "markdown",
   "id": "ad110d1d",
   "metadata": {},
   "source": [
    "Among the most important areas in the world is human health. Exploring the methods for preventing and detecting health problems has sparked a lot of interest. Cancer is the most common illness that has a significant impact on human health. A malignant tumor is a cancerous tumor that develops as a result of the disease. Colon cancer, together with breast cancer and lung cancer, is the third most deadly disease in the United States, killing 49,190 people in 2016 [1]. This is a cancer that begins in the large intestine colon, which is the last component of the digestive system.\n",
    "\n",
    "The machine learning technique should be used in this assignment to aid in the detection of malignant cells and the differentiation of cell types in colon cancer. Deep learning algorithms such as AlexNet, Resnet50, and VGG19 will all be developed and evaluated in this notebook, with XGBoost being the sole non-deep learning option to tackle the issue."
   ]
  },
  {
   "cell_type": "markdown",
   "id": "eceb03b9",
   "metadata": {},
   "source": [
    "# Import necessary library"
   ]
  },
  {
   "cell_type": "code",
   "execution_count": null,
   "id": "f538a0ee",
   "metadata": {},
   "outputs": [],
   "source": [
    "conda install -c conda-forge keras-preprocessing\n"
   ]
  },
  {
   "cell_type": "code",
   "execution_count": null,
   "id": "1bbfaecb",
   "metadata": {},
   "outputs": [],
   "source": [
    "pip install opencv-python"
   ]
  },
  {
   "cell_type": "code",
   "execution_count": null,
   "id": "b3f49e51",
   "metadata": {},
   "outputs": [],
   "source": [
    "import pandas as pd\n",
    "import numpy as np\n",
    "import matplotlib.pyplot as plt\n",
    "import sklearn as sk\n",
    "from sklearn.utils import resample\n",
    "\n",
    "import seaborn as sns\n",
    "import warnings\n",
    "warnings.filterwarnings(\"ignore\")"
   ]
  },
  {
   "cell_type": "markdown",
   "id": "b4f3043d",
   "metadata": {},
   "source": [
    "## Load dataset"
   ]
  },
  {
   "cell_type": "code",
   "execution_count": null,
   "id": "47cc8075",
   "metadata": {},
   "outputs": [],
   "source": [
    "df_label = pd.read_csv(\"data_labels_mainData.csv\")\n",
    "df_label_extra = pd.read_csv(\"data_labels_extraData.csv\")"
   ]
  },
  {
   "cell_type": "code",
   "execution_count": null,
   "id": "87e17ead",
   "metadata": {},
   "outputs": [],
   "source": [
    "from tensorflow.keras.preprocessing import image\n",
    "\n",
    "CELL_TYPE_SAMPLE_SIZE = 5\n",
    "\n",
    "for cell_type_name in df_label['cellTypeName'].unique():\n",
    "    df_sample = df_label[df_label['cellTypeName'] == cell_type_name].sample(CELL_TYPE_SAMPLE_SIZE)\n",
    "    plt.figure(figsize=(CELL_TYPE_SAMPLE_SIZE ** 2, CELL_TYPE_SAMPLE_SIZE))\n",
    "    for image_index, image_name in enumerate(df_sample['ImageName']):\n",
    "        plt.subplot(1, CELL_TYPE_SAMPLE_SIZE + 1, image_index+1)\n",
    "        plt.grid(None)\n",
    "        img = image.load_img('./patch_images/' + image_name, target_size=(27, 27))\n",
    "        plt.imshow(img)\n",
    "        plt.title(cell_type_name)"
   ]
  },
  {
   "cell_type": "markdown",
   "id": "604f8ffd",
   "metadata": {},
   "source": [
    "## *Task1: Classify  images  according  to  whether  given  cell  image  represents  a cancerous cells or not (isCancerous)*"
   ]
  },
  {
   "cell_type": "markdown",
   "id": "ff58db1c",
   "metadata": {},
   "source": [
    "# Data Processing \n"
   ]
  },
  {
   "cell_type": "code",
   "execution_count": null,
   "id": "03798191",
   "metadata": {},
   "outputs": [],
   "source": [
    "is_cancer_class_count = df_label.isCancerous.value_counts()\n",
    "amount_for_balance = abs(is_cancer_class_count[0] - is_cancer_class_count[1])\n",
    "df_random_cancer_from_extra = df_label_extra[df_label_extra['isCancerous'] == 1].sample(amount_for_balance)\n",
    "df_label = pd.concat([df_label, df_random_cancer_from_extra], ignore_index=True)\n",
    "df_label.isCancerous.value_counts()"
   ]
  },
  {
   "cell_type": "code",
   "execution_count": null,
   "id": "afffac38",
   "metadata": {},
   "outputs": [],
   "source": [
    "from sklearn.model_selection import train_test_split\n",
    "\n",
    "train_df, test_df = train_test_split(df_label, test_size=0.2, random_state=9999)\n",
    "train_df, val_df = train_test_split(train_df, test_size=0.25, random_state=9999)\n",
    "\n",
    "print(\"Train data : {}, Val Data: {}, Test Data: {}\".format(train_df.shape[0], val_df.shape[0], test_df.shape[0]))"
   ]
  },
  {
   "cell_type": "code",
   "execution_count": null,
   "id": "918f0ccb",
   "metadata": {},
   "outputs": [],
   "source": [
    "# document: https://keras.io/api/preprocessing/image/#imagedatagenerator-class\n",
    "from keras_preprocessing.image import ImageDataGenerator\n",
    "\n",
    "def get_dataframe_iterator(dataframe, \n",
    "                            image_shape = (27, 27), \n",
    "                            batch_size = 64,\n",
    "                            x_col = \"ImageName\",\n",
    "                            y_col = \"cellTypeName\",\n",
    "                            classes = [\"fibroblast\", \"inflammatory\", \"epithelial\", \"others\"]):\n",
    "    dataframe[y_col] = dataframe[y_col].apply(str)\n",
    "    generator = ImageDataGenerator(\n",
    "        rescale = 1./255, \n",
    "        rotation_range = 20,\n",
    "        width_shift_range=0.2,\n",
    "        height_shift_range=0.2,\n",
    "        zoom_range=0.2,\n",
    "        horizontal_flip=True\n",
    "    ) \n",
    "    iterator = generator.flow_from_dataframe(\n",
    "        dataframe = dataframe,\n",
    "        directory = \"./patch_images\", \n",
    "        x_col = x_col,\n",
    "        y_col = y_col,\n",
    "        classes = classes, \n",
    "        class_mode = \"categorical\", \n",
    "        target_size = image_shape, \n",
    "        batch_size = batch_size,\n",
    "    )\n",
    "    return iterator"
   ]
  },
  {
   "cell_type": "code",
   "execution_count": null,
   "id": "f6e646a0",
   "metadata": {},
   "outputs": [],
   "source": [
    "# Check duplicate"
   ]
  },
  {
   "cell_type": "code",
   "execution_count": null,
   "id": "ec3e3b06",
   "metadata": {},
   "outputs": [],
   "source": [
    "file_list = os.listdir('./patch_images/')\n",
    "print(len(file_list))"
   ]
  },
  {
   "cell_type": "code",
   "execution_count": null,
   "id": "dea685c9",
   "metadata": {},
   "outputs": [],
   "source": [
    "import hashlib, os\n",
    "duplicates = []\n",
    "hash_keys = dict()\n",
    "for index, filename in  enumerate(os.listdir('./patch_images/')):  #listdir('.') = current directory\n",
    "\n",
    "    if os.path.isfile('./patch_images/'+filename):\n",
    "        with open('./patch_images/'+filename, 'rb') as f:\n",
    "            filehash = hashlib.md5(f.read()).hexdigest()\n",
    "        if filehash not in hash_keys: \n",
    "            hash_keys[filehash] = index\n",
    "        else:\n",
    "            duplicates.append((index,hash_keys[filehash]))\n",
    "            print(filename)\n"
   ]
  },
  {
   "cell_type": "code",
   "execution_count": null,
   "id": "43d8d8b7",
   "metadata": {},
   "outputs": [],
   "source": [
    "from imageio import imread\n",
    "for file_indexes in duplicates[:30]:\n",
    "    try:\n",
    "    \n",
    "        plt.subplot(121),plt.imshow(imread('./patch_images/'+ file_list[file_indexes[1]]))\n",
    "        plt.title(file_indexes[1]), plt.xticks([]), plt.yticks([])\n",
    "\n",
    "        plt.subplot(122),plt.imshow(imread('./patch_images/'+ file_list[file_indexes[0]]))\n",
    "        plt.title(str(file_indexes[0]) + ' duplicate'), plt.xticks([]), plt.yticks([])\n",
    "        plt.show()\n",
    "    \n",
    "    except OSError as e:\n",
    "        continue"
   ]
  },
  {
   "cell_type": "code",
   "execution_count": null,
   "id": "0e190503",
   "metadata": {},
   "outputs": [],
   "source": [
    "# # Remove duplicate\n",
    "# for index in duplicates:\n",
    "#     os.remove('./patch_images/'+file_list[index[0]])"
   ]
  },
  {
   "cell_type": "code",
   "execution_count": null,
   "id": "e0eafcf1",
   "metadata": {},
   "outputs": [],
   "source": [
    "is_cancer_class_count = df_label.isCancerous.value_counts()\n",
    "amount_for_balance = abs(is_cancer_class_count[0] - is_cancer_class_count[1])\n",
    "df_random_cancer_from_extra = df_label_extra[df_label_extra['isCancerous'] == 1].sample(amount_for_balance)\n",
    "df_label = pd.concat([df_label, df_random_cancer_from_extra], ignore_index=True)\n",
    "df_label.isCancerous.value_counts()"
   ]
  },
  {
   "cell_type": "code",
   "execution_count": 13,
   "id": "7e2b9a32",
   "metadata": {},
   "outputs": [
    {
     "name": "stdout",
     "output_type": "stream",
     "text": [
      "Collecting package metadata (current_repodata.json): done\n",
      "Solving environment: failed with initial frozen solve. Retrying with flexible solve.\n",
      "Collecting package metadata (repodata.json): done\n",
      "Solving environment: failed with initial frozen solve. Retrying with flexible solve.\n",
      "Solving environment: - \n",
      "Found conflicts! Looking for incompatible packages.\n",
      "This can take several minutes.  Press CTRL-C to abort.\n",
      "                                                                               failed\n",
      "\n",
      "UnsatisfiableError: The following specifications were found\n",
      "to be incompatible with the existing python installation in your environment:\n",
      "\n",
      "Specifications:\n",
      "\n",
      "  - scipy==1.0 -> python[version='>=2.7,<2.8.0a0|>=3.5,<3.6.0a0|>=3.6,<3.7.0a0']\n",
      "\n",
      "Your python: python=3.9\n",
      "\n",
      "If python is on the left-most side of the chain, that's the version you've asked for.\n",
      "When python appears to the right, that indicates that the thing on the left is somehow\n",
      "not available for the python version you are constrained to. Note that conda will not\n",
      "change your python version to a different minor version unless you explicitly specify\n",
      "that.\n",
      "\n",
      "\n",
      "\n",
      "\n",
      "Note: you may need to restart the kernel to use updated packages.\n"
     ]
    }
   ],
   "source": [
    "from sklearn.model_selection import train_test_split\n",
    "\n",
    "train_df, test_df = train_test_split(df_label, test_size=0.2, random_state=9999)\n",
    "train_df, val_df = train_test_split(train_df, test_size=0.25, random_state=9999)\n",
    "\n",
    "print(\"Train data : {}, Val Data: {}, Test Data: {}\".format(train_df.shape[0], val_df.shape[0], test_df.shape[0]))"
   ]
  },
  {
   "cell_type": "code",
   "execution_count": 14,
   "id": "2a29b43d",
   "metadata": {
    "scrolled": true
   },
   "outputs": [
    {
     "ename": "ImportError",
     "evalue": "cannot import name 'imread' from 'scipy.misc' (/Users/bmhuyquoc104/opt/anaconda3/lib/python3.9/site-packages/scipy/misc/__init__.py)",
     "output_type": "error",
     "traceback": [
      "\u001b[0;31m---------------------------------------------------------------------------\u001b[0m",
      "\u001b[0;31mImportError\u001b[0m                               Traceback (most recent call last)",
      "\u001b[0;32m/var/folders/xk/kysx_5zs3pgbq30hk039c2l40000gn/T/ipykernel_18224/1573030643.py\u001b[0m in \u001b[0;36m<module>\u001b[0;34m\u001b[0m\n\u001b[0;32m----> 1\u001b[0;31m \u001b[0;32mfrom\u001b[0m \u001b[0mscipy\u001b[0m\u001b[0;34m.\u001b[0m\u001b[0mmisc\u001b[0m \u001b[0;32mimport\u001b[0m \u001b[0mimread\u001b[0m\u001b[0;34m,\u001b[0m \u001b[0mimresize\u001b[0m\u001b[0;34m,\u001b[0m \u001b[0mimshow\u001b[0m\u001b[0;34m\u001b[0m\u001b[0;34m\u001b[0m\u001b[0m\n\u001b[0m\u001b[1;32m      2\u001b[0m \u001b[0;32mfor\u001b[0m \u001b[0mfile_indexes\u001b[0m \u001b[0;32min\u001b[0m \u001b[0mduplicates\u001b[0m\u001b[0;34m[\u001b[0m\u001b[0;34m:\u001b[0m\u001b[0;36m30\u001b[0m\u001b[0;34m]\u001b[0m\u001b[0;34m:\u001b[0m\u001b[0;34m\u001b[0m\u001b[0;34m\u001b[0m\u001b[0m\n\u001b[1;32m      3\u001b[0m     \u001b[0;32mtry\u001b[0m\u001b[0;34m:\u001b[0m\u001b[0;34m\u001b[0m\u001b[0;34m\u001b[0m\u001b[0m\n\u001b[1;32m      4\u001b[0m \u001b[0;34m\u001b[0m\u001b[0m\n\u001b[1;32m      5\u001b[0m         \u001b[0mplt\u001b[0m\u001b[0;34m.\u001b[0m\u001b[0msubplot\u001b[0m\u001b[0;34m(\u001b[0m\u001b[0;36m121\u001b[0m\u001b[0;34m)\u001b[0m\u001b[0;34m,\u001b[0m\u001b[0mplt\u001b[0m\u001b[0;34m.\u001b[0m\u001b[0mimshow\u001b[0m\u001b[0;34m(\u001b[0m\u001b[0mimread\u001b[0m\u001b[0;34m(\u001b[0m\u001b[0mfile_list\u001b[0m\u001b[0;34m[\u001b[0m\u001b[0mfile_indexes\u001b[0m\u001b[0;34m[\u001b[0m\u001b[0;36m1\u001b[0m\u001b[0;34m]\u001b[0m\u001b[0;34m]\u001b[0m\u001b[0;34m)\u001b[0m\u001b[0;34m)\u001b[0m\u001b[0;34m\u001b[0m\u001b[0;34m\u001b[0m\u001b[0m\n",
      "\u001b[0;31mImportError\u001b[0m: cannot import name 'imread' from 'scipy.misc' (/Users/bmhuyquoc104/opt/anaconda3/lib/python3.9/site-packages/scipy/misc/__init__.py)"
     ]
    }
   ],
   "source": [
    "# document: https://keras.io/api/preprocessing/image/#imagedatagenerator-class\n",
    "from keras_preprocessing.image import ImageDataGenerator\n",
    "\n",
    "def get_dataframe_iterator(dataframe, \n",
    "                            image_shape = (27, 27), \n",
    "                            batch_size = 64,\n",
    "                            x_col = \"ImageName\",\n",
    "                            y_col = \"cellTypeName\",\n",
    "                            classes = [\"fibroblast\", \"inflammatory\", \"epithelial\", \"others\"]):\n",
    "    dataframe[y_col] = dataframe[y_col].apply(str)\n",
    "    generator = ImageDataGenerator(\n",
    "        rescale = 1./255, \n",
    "        rotation_range = 20,\n",
    "        width_shift_range=0.2,\n",
    "        height_shift_range=0.2,\n",
    "        zoom_range=0.2,\n",
    "        horizontal_flip=True\n",
    "    ) \n",
    "    iterator = generator.flow_from_dataframe(\n",
    "        dataframe = dataframe,\n",
    "        directory = \"./patch_images\", \n",
    "        x_col = x_col,\n",
    "        y_col = y_col,\n",
    "        classes = classes, \n",
    "        class_mode = \"categorical\", \n",
    "        target_size = image_shape, \n",
    "        batch_size = batch_size,\n",
    "    )\n",
    "    return iterator"
   ]
  },
  {
   "cell_type": "markdown",
   "id": "afa198f7",
   "metadata": {},
   "source": [
    "## *Task2: Classify  images  according  to  cell-type,  such  as:  fibroblast,  inflammatory, epithelial or others* "
   ]
  },
  {
   "cell_type": "markdown",
   "id": "ee169c46",
   "metadata": {},
   "source": [
    "<a id =\"IV\"></a>\n",
    "<h2 style = \"text-align:center; color:white; font-weight:600; padding:0.5em; background-color: #B02B00; border-radius:25px ; box-shadow: 0 0 20px 0 #ACA7CB; margin-right:3em; margin-bottom:1em\">Ⅰ. Cleaning dataset  </h2>"
   ]
  },
  {
   "cell_type": "markdown",
   "id": "7ebfb9f6",
   "metadata": {},
   "source": [
    "#### Before cleaning the data, let display the dataset to observe it in general"
   ]
  },
  {
   "cell_type": "code",
   "execution_count": 3,
   "id": "2d555f7f",
   "metadata": {},
   "outputs": [
    {
     "data": {
      "text/html": [
       "<div>\n",
       "<style scoped>\n",
       "    .dataframe tbody tr th:only-of-type {\n",
       "        vertical-align: middle;\n",
       "    }\n",
       "\n",
       "    .dataframe tbody tr th {\n",
       "        vertical-align: top;\n",
       "    }\n",
       "\n",
       "    .dataframe thead th {\n",
       "        text-align: right;\n",
       "    }\n",
       "</style>\n",
       "<table border=\"1\" class=\"dataframe\">\n",
       "  <thead>\n",
       "    <tr style=\"text-align: right;\">\n",
       "      <th></th>\n",
       "      <th>InstanceID</th>\n",
       "      <th>patientID</th>\n",
       "      <th>ImageName</th>\n",
       "      <th>cellTypeName</th>\n",
       "      <th>cellType</th>\n",
       "      <th>isCancerous</th>\n",
       "    </tr>\n",
       "  </thead>\n",
       "  <tbody>\n",
       "    <tr>\n",
       "      <th>0</th>\n",
       "      <td>22405</td>\n",
       "      <td>1</td>\n",
       "      <td>22405.png</td>\n",
       "      <td>fibroblast</td>\n",
       "      <td>0</td>\n",
       "      <td>0</td>\n",
       "    </tr>\n",
       "    <tr>\n",
       "      <th>1</th>\n",
       "      <td>22406</td>\n",
       "      <td>1</td>\n",
       "      <td>22406.png</td>\n",
       "      <td>fibroblast</td>\n",
       "      <td>0</td>\n",
       "      <td>0</td>\n",
       "    </tr>\n",
       "    <tr>\n",
       "      <th>2</th>\n",
       "      <td>22407</td>\n",
       "      <td>1</td>\n",
       "      <td>22407.png</td>\n",
       "      <td>fibroblast</td>\n",
       "      <td>0</td>\n",
       "      <td>0</td>\n",
       "    </tr>\n",
       "    <tr>\n",
       "      <th>3</th>\n",
       "      <td>22408</td>\n",
       "      <td>1</td>\n",
       "      <td>22408.png</td>\n",
       "      <td>fibroblast</td>\n",
       "      <td>0</td>\n",
       "      <td>0</td>\n",
       "    </tr>\n",
       "    <tr>\n",
       "      <th>4</th>\n",
       "      <td>22409</td>\n",
       "      <td>1</td>\n",
       "      <td>22409.png</td>\n",
       "      <td>fibroblast</td>\n",
       "      <td>0</td>\n",
       "      <td>0</td>\n",
       "    </tr>\n",
       "    <tr>\n",
       "      <th>...</th>\n",
       "      <td>...</td>\n",
       "      <td>...</td>\n",
       "      <td>...</td>\n",
       "      <td>...</td>\n",
       "      <td>...</td>\n",
       "      <td>...</td>\n",
       "    </tr>\n",
       "    <tr>\n",
       "      <th>9891</th>\n",
       "      <td>1625</td>\n",
       "      <td>60</td>\n",
       "      <td>1625.png</td>\n",
       "      <td>epithelial</td>\n",
       "      <td>2</td>\n",
       "      <td>1</td>\n",
       "    </tr>\n",
       "    <tr>\n",
       "      <th>9892</th>\n",
       "      <td>1626</td>\n",
       "      <td>60</td>\n",
       "      <td>1626.png</td>\n",
       "      <td>epithelial</td>\n",
       "      <td>2</td>\n",
       "      <td>1</td>\n",
       "    </tr>\n",
       "    <tr>\n",
       "      <th>9893</th>\n",
       "      <td>1627</td>\n",
       "      <td>60</td>\n",
       "      <td>1627.png</td>\n",
       "      <td>epithelial</td>\n",
       "      <td>2</td>\n",
       "      <td>1</td>\n",
       "    </tr>\n",
       "    <tr>\n",
       "      <th>9894</th>\n",
       "      <td>1628</td>\n",
       "      <td>60</td>\n",
       "      <td>1628.png</td>\n",
       "      <td>epithelial</td>\n",
       "      <td>2</td>\n",
       "      <td>1</td>\n",
       "    </tr>\n",
       "    <tr>\n",
       "      <th>9895</th>\n",
       "      <td>1629</td>\n",
       "      <td>60</td>\n",
       "      <td>1629.png</td>\n",
       "      <td>epithelial</td>\n",
       "      <td>2</td>\n",
       "      <td>1</td>\n",
       "    </tr>\n",
       "  </tbody>\n",
       "</table>\n",
       "<p>9896 rows × 6 columns</p>\n",
       "</div>"
      ],
      "text/plain": [
       "      InstanceID  patientID  ImageName cellTypeName  cellType  isCancerous\n",
       "0          22405          1  22405.png   fibroblast         0            0\n",
       "1          22406          1  22406.png   fibroblast         0            0\n",
       "2          22407          1  22407.png   fibroblast         0            0\n",
       "3          22408          1  22408.png   fibroblast         0            0\n",
       "4          22409          1  22409.png   fibroblast         0            0\n",
       "...          ...        ...        ...          ...       ...          ...\n",
       "9891        1625         60   1625.png   epithelial         2            1\n",
       "9892        1626         60   1626.png   epithelial         2            1\n",
       "9893        1627         60   1627.png   epithelial         2            1\n",
       "9894        1628         60   1628.png   epithelial         2            1\n",
       "9895        1629         60   1629.png   epithelial         2            1\n",
       "\n",
       "[9896 rows x 6 columns]"
      ]
     },
     "execution_count": 3,
     "metadata": {},
     "output_type": "execute_result"
    }
   ],
   "source": [
    "df_label"
   ]
  },
  {
   "cell_type": "markdown",
   "id": "1acbc66d",
   "metadata": {},
   "source": [
    "<a id =\"IV.A1\"></a>\n",
    "\n",
    "### *1. Check Data type*"
   ]
  },
  {
   "cell_type": "code",
   "execution_count": 4,
   "id": "066ee211",
   "metadata": {},
   "outputs": [
    {
     "name": "stdout",
     "output_type": "stream",
     "text": [
      "<class 'pandas.core.frame.DataFrame'>\n",
      "RangeIndex: 9896 entries, 0 to 9895\n",
      "Data columns (total 6 columns):\n",
      " #   Column        Non-Null Count  Dtype \n",
      "---  ------        --------------  ----- \n",
      " 0   InstanceID    9896 non-null   int64 \n",
      " 1   patientID     9896 non-null   int64 \n",
      " 2   ImageName     9896 non-null   object\n",
      " 3   cellTypeName  9896 non-null   object\n",
      " 4   cellType      9896 non-null   int64 \n",
      " 5   isCancerous   9896 non-null   int64 \n",
      "dtypes: int64(4), object(2)\n",
      "memory usage: 464.0+ KB\n"
     ]
    }
   ],
   "source": [
    "## read all info row by row\n",
    "df_label.info()"
   ]
  },
  {
   "cell_type": "markdown",
   "id": "8f18d525",
   "metadata": {},
   "source": [
    "### 📚 Reason: \n",
    "We need to check data type for overall understanding for our dataset and identifying which column we should keep or change data type for later encoding and better model's performance"
   ]
  },
  {
   "cell_type": "markdown",
   "id": "7f48f5b0",
   "metadata": {},
   "source": [
    "<a id =\"IV.A2\"></a>\n",
    "\n",
    "### *2. Checking missing values*"
   ]
  },
  {
   "cell_type": "markdown",
   "id": "b535ad0a",
   "metadata": {},
   "source": [
    "### 📚 Reason: \n",
    "Missing value can lead to error for machine, thus, we need to check if there is any missing value and fill it."
   ]
  },
  {
   "cell_type": "code",
   "execution_count": 5,
   "id": "025d9a7f",
   "metadata": {},
   "outputs": [
    {
     "data": {
      "text/plain": [
       "False"
      ]
     },
     "execution_count": 5,
     "metadata": {},
     "output_type": "execute_result"
    }
   ],
   "source": [
    "# Check if the dataset has any missing value, \n",
    "df_label.isnull().values.any()"
   ]
  },
  {
   "cell_type": "markdown",
   "id": "789c605a",
   "metadata": {},
   "source": [
    "### 🔬 Observation: \n",
    "Since the return value is false, we can conclude that the dataset has no missing values. However, we should double check for every columns"
   ]
  },
  {
   "cell_type": "code",
   "execution_count": 6,
   "id": "d5f45c69",
   "metadata": {},
   "outputs": [
    {
     "data": {
      "text/plain": [
       "InstanceID      0\n",
       "patientID       0\n",
       "ImageName       0\n",
       "cellTypeName    0\n",
       "cellType        0\n",
       "isCancerous     0\n",
       "dtype: int64"
      ]
     },
     "execution_count": 6,
     "metadata": {},
     "output_type": "execute_result"
    }
   ],
   "source": [
    "# Check total missing values for each columns \n",
    "df_label.isnull().sum()"
   ]
  },
  {
   "cell_type": "markdown",
   "id": "ef6cf7a5",
   "metadata": {},
   "source": [
    "### 🔬 Observation: \n",
    "There is 100% no missing values in any columns in the dataset, thus, we dont not need to fill any missing values for this dataset"
   ]
  },
  {
   "cell_type": "markdown",
   "id": "6db4d506",
   "metadata": {},
   "source": [
    "<a id =\"IV.A3\"></a>\n",
    "\n",
    "### *3. Check typography*"
   ]
  },
  {
   "cell_type": "code",
   "execution_count": 7,
   "id": "080c546b",
   "metadata": {},
   "outputs": [
    {
     "name": "stdout",
     "output_type": "stream",
     "text": [
      "4\n"
     ]
    }
   ],
   "source": [
    "celltype_name_values = df_label['cellTypeName'].nunique(dropna=False)\n",
    "print(celltype_name_values)"
   ]
  },
  {
   "cell_type": "code",
   "execution_count": 8,
   "id": "8dc3a9af",
   "metadata": {},
   "outputs": [
    {
     "name": "stdout",
     "output_type": "stream",
     "text": [
      "['fibroblast' 'inflammatory' 'others' 'epithelial']\n"
     ]
    }
   ],
   "source": [
    "print(df_label['cellTypeName'].unique())"
   ]
  },
  {
   "cell_type": "markdown",
   "id": "13e9b944",
   "metadata": {},
   "source": [
    "### 📚 Reason: \n",
    "Typo value can lead to time runing and storage problem for machine (fibroblast, fibreblast are 2 different values but have same meaning), thus, we check typo preventing same meaningful values"
   ]
  },
  {
   "cell_type": "markdown",
   "id": "7f6c8a06",
   "metadata": {},
   "source": [
    "### 🔬 Observation: \n",
    "Since the cellTypeName column have 4 different values such as fibroblast, inflammatory, epithelial or others. => no typo"
   ]
  },
  {
   "cell_type": "markdown",
   "id": "b8813c8b",
   "metadata": {},
   "source": [
    "<a id =\"IV.A4\"></a>\n",
    "\n",
    "### *4. Convert string column to uppercase*"
   ]
  },
  {
   "cell_type": "markdown",
   "id": "be73572b",
   "metadata": {},
   "source": [
    "### 🔬 Observation: \n",
    "Since there are only 4 values fibroblast, inflammatory, epithelial in cellTypeName columns. Therefore, we do not need to convert to lowercase or uppercase for this dataset. However, in the larger dataset with multiple values, we should convert to all uppercase or lowercase to avoid duplication "
   ]
  },
  {
   "cell_type": "markdown",
   "id": "2fdb3f63",
   "metadata": {},
   "source": [
    "<a id =\"IV.A5\"></a>\n",
    "\n",
    "### 5. Eliminate extra white spaces "
   ]
  },
  {
   "cell_type": "markdown",
   "id": "00d910c3",
   "metadata": {},
   "source": [
    "### 🔬 Observation: \n",
    "Since the Sepsis column have 4 different values such as fibroblast, inflammatory, epithelial or others => no extra white spaces    "
   ]
  },
  {
   "cell_type": "markdown",
   "id": "5c994bd3",
   "metadata": {},
   "source": [
    "<a id =\"IV.A6\"></a>\n",
    "\n",
    "### *6. Check duplication*"
   ]
  },
  {
   "cell_type": "code",
   "execution_count": 9,
   "id": "c053ccf8",
   "metadata": {},
   "outputs": [
    {
     "name": "stdout",
     "output_type": "stream",
     "text": [
      "Empty DataFrame\n",
      "Columns: [InstanceID, patientID, ImageName, cellTypeName, cellType, isCancerous]\n",
      "Index: []\n"
     ]
    }
   ],
   "source": [
    "# Empty Datafrane -> no dupplication in the df_label dataframe\n",
    "duplicate_values = df_label[df_label.duplicated()]\n",
    "print(duplicate_values)"
   ]
  },
  {
   "cell_type": "markdown",
   "id": "33dfc5f7",
   "metadata": {},
   "source": [
    "### 📚 Reason: \n",
    "Duplicate data can lead to time runing and storage problem for machine, thus, we need to check if there is any duplicated data and drop it."
   ]
  },
  {
   "cell_type": "markdown",
   "id": "88066fec",
   "metadata": {},
   "source": [
    "### 🔬 Observation: \n",
    "There is 100% no duplicated values in the dataset, thus, we dont not need to drop any rows for this dataset"
   ]
  },
  {
   "cell_type": "markdown",
   "id": "c51d66ff",
   "metadata": {},
   "source": [
    "<a id =\"IV.A7a\"></a>\n",
    "\n",
    "### 7. Check impossible values "
   ]
  },
  {
   "cell_type": "markdown",
   "id": "aab5655b",
   "metadata": {},
   "source": [
    "### 📚 Reason: \n",
    "Some time the dataset has some impossible values such as age is negative, thus, we need to check impossible value to find and drop or fix it to improve the accuracy of the machine learing"
   ]
  },
  {
   "cell_type": "markdown",
   "id": "23dfdd5e",
   "metadata": {},
   "source": [
    "### 🔬 Observation: \n",
    "In this dataset, all of the data are reasonable => no impossible values"
   ]
  },
  {
   "cell_type": "markdown",
   "id": "e2a211bb",
   "metadata": {},
   "source": [
    "<a id =\"IV.B8\"></a>\n",
    "\n",
    "### 8. Check outlier "
   ]
  },
  {
   "cell_type": "code",
   "execution_count": 10,
   "id": "0bde1bb1",
   "metadata": {},
   "outputs": [
    {
     "data": {
      "image/png": "[encoded data removed]",
      "text/plain": [
       "<Figure size 720x540 with 1 Axes>"
      ]
     },
     "metadata": {
      "needs_background": "light"
     },
     "output_type": "display_data"
    }
   ],
   "source": [
    "plt.rcParams['figure.figsize'] = [10, 7.5]\n",
    "# plot the boxplot to see the outlier of each numerical column\n",
    "sns.boxplot(data=df_label,orient=\"v\")\n",
    "plt.title(\"Bot-Plots Distribution\", y = 1,fontsize = 20, pad = 40);"
   ]
  },
  {
   "cell_type": "markdown",
   "id": "47d1cd74",
   "metadata": {},
   "source": [
    "### 🔬 Observation:\n",
    "According to the bot-plots, there are completely no outliner in this dataset"
   ]
  },
  {
   "cell_type": "code",
   "execution_count": 11,
   "id": "6e6697d6",
   "metadata": {},
   "outputs": [
    {
     "data": {
      "text/html": [
       "<div>\n",
       "<style scoped>\n",
       "    .dataframe tbody tr th:only-of-type {\n",
       "        vertical-align: middle;\n",
       "    }\n",
       "\n",
       "    .dataframe tbody tr th {\n",
       "        vertical-align: top;\n",
       "    }\n",
       "\n",
       "    .dataframe thead th {\n",
       "        text-align: right;\n",
       "    }\n",
       "</style>\n",
       "<table border=\"1\" class=\"dataframe\">\n",
       "  <thead>\n",
       "    <tr style=\"text-align: right;\">\n",
       "      <th></th>\n",
       "      <th>InstanceID</th>\n",
       "      <th>patientID</th>\n",
       "      <th>ImageName</th>\n",
       "      <th>cellTypeName</th>\n",
       "      <th>cellType</th>\n",
       "      <th>isCancerous</th>\n",
       "    </tr>\n",
       "  </thead>\n",
       "  <tbody>\n",
       "    <tr>\n",
       "      <th>0</th>\n",
       "      <td>22405</td>\n",
       "      <td>1</td>\n",
       "      <td>22405.png</td>\n",
       "      <td>fibroblast</td>\n",
       "      <td>0</td>\n",
       "      <td>0</td>\n",
       "    </tr>\n",
       "    <tr>\n",
       "      <th>1</th>\n",
       "      <td>22406</td>\n",
       "      <td>1</td>\n",
       "      <td>22406.png</td>\n",
       "      <td>fibroblast</td>\n",
       "      <td>0</td>\n",
       "      <td>0</td>\n",
       "    </tr>\n",
       "    <tr>\n",
       "      <th>2</th>\n",
       "      <td>22407</td>\n",
       "      <td>1</td>\n",
       "      <td>22407.png</td>\n",
       "      <td>fibroblast</td>\n",
       "      <td>0</td>\n",
       "      <td>0</td>\n",
       "    </tr>\n",
       "    <tr>\n",
       "      <th>3</th>\n",
       "      <td>22408</td>\n",
       "      <td>1</td>\n",
       "      <td>22408.png</td>\n",
       "      <td>fibroblast</td>\n",
       "      <td>0</td>\n",
       "      <td>0</td>\n",
       "    </tr>\n",
       "    <tr>\n",
       "      <th>4</th>\n",
       "      <td>22409</td>\n",
       "      <td>1</td>\n",
       "      <td>22409.png</td>\n",
       "      <td>fibroblast</td>\n",
       "      <td>0</td>\n",
       "      <td>0</td>\n",
       "    </tr>\n",
       "    <tr>\n",
       "      <th>5</th>\n",
       "      <td>22410</td>\n",
       "      <td>1</td>\n",
       "      <td>22410.png</td>\n",
       "      <td>fibroblast</td>\n",
       "      <td>0</td>\n",
       "      <td>0</td>\n",
       "    </tr>\n",
       "    <tr>\n",
       "      <th>6</th>\n",
       "      <td>22411</td>\n",
       "      <td>1</td>\n",
       "      <td>22411.png</td>\n",
       "      <td>fibroblast</td>\n",
       "      <td>0</td>\n",
       "      <td>0</td>\n",
       "    </tr>\n",
       "    <tr>\n",
       "      <th>7</th>\n",
       "      <td>22412</td>\n",
       "      <td>1</td>\n",
       "      <td>22412.png</td>\n",
       "      <td>fibroblast</td>\n",
       "      <td>0</td>\n",
       "      <td>0</td>\n",
       "    </tr>\n",
       "    <tr>\n",
       "      <th>8</th>\n",
       "      <td>22413</td>\n",
       "      <td>1</td>\n",
       "      <td>22413.png</td>\n",
       "      <td>fibroblast</td>\n",
       "      <td>0</td>\n",
       "      <td>0</td>\n",
       "    </tr>\n",
       "    <tr>\n",
       "      <th>9</th>\n",
       "      <td>22414</td>\n",
       "      <td>1</td>\n",
       "      <td>22414.png</td>\n",
       "      <td>fibroblast</td>\n",
       "      <td>0</td>\n",
       "      <td>0</td>\n",
       "    </tr>\n",
       "    <tr>\n",
       "      <th>10</th>\n",
       "      <td>22415</td>\n",
       "      <td>1</td>\n",
       "      <td>22415.png</td>\n",
       "      <td>fibroblast</td>\n",
       "      <td>0</td>\n",
       "      <td>0</td>\n",
       "    </tr>\n",
       "    <tr>\n",
       "      <th>11</th>\n",
       "      <td>22417</td>\n",
       "      <td>1</td>\n",
       "      <td>22417.png</td>\n",
       "      <td>inflammatory</td>\n",
       "      <td>1</td>\n",
       "      <td>0</td>\n",
       "    </tr>\n",
       "    <tr>\n",
       "      <th>12</th>\n",
       "      <td>22418</td>\n",
       "      <td>1</td>\n",
       "      <td>22418.png</td>\n",
       "      <td>inflammatory</td>\n",
       "      <td>1</td>\n",
       "      <td>0</td>\n",
       "    </tr>\n",
       "    <tr>\n",
       "      <th>13</th>\n",
       "      <td>22419</td>\n",
       "      <td>1</td>\n",
       "      <td>22419.png</td>\n",
       "      <td>inflammatory</td>\n",
       "      <td>1</td>\n",
       "      <td>0</td>\n",
       "    </tr>\n",
       "    <tr>\n",
       "      <th>14</th>\n",
       "      <td>22420</td>\n",
       "      <td>1</td>\n",
       "      <td>22420.png</td>\n",
       "      <td>inflammatory</td>\n",
       "      <td>1</td>\n",
       "      <td>0</td>\n",
       "    </tr>\n",
       "    <tr>\n",
       "      <th>15</th>\n",
       "      <td>22421</td>\n",
       "      <td>1</td>\n",
       "      <td>22421.png</td>\n",
       "      <td>inflammatory</td>\n",
       "      <td>1</td>\n",
       "      <td>0</td>\n",
       "    </tr>\n",
       "    <tr>\n",
       "      <th>16</th>\n",
       "      <td>22422</td>\n",
       "      <td>1</td>\n",
       "      <td>22422.png</td>\n",
       "      <td>inflammatory</td>\n",
       "      <td>1</td>\n",
       "      <td>0</td>\n",
       "    </tr>\n",
       "    <tr>\n",
       "      <th>17</th>\n",
       "      <td>22423</td>\n",
       "      <td>1</td>\n",
       "      <td>22423.png</td>\n",
       "      <td>others</td>\n",
       "      <td>3</td>\n",
       "      <td>0</td>\n",
       "    </tr>\n",
       "    <tr>\n",
       "      <th>18</th>\n",
       "      <td>22424</td>\n",
       "      <td>1</td>\n",
       "      <td>22424.png</td>\n",
       "      <td>others</td>\n",
       "      <td>3</td>\n",
       "      <td>0</td>\n",
       "    </tr>\n",
       "    <tr>\n",
       "      <th>19</th>\n",
       "      <td>19035</td>\n",
       "      <td>2</td>\n",
       "      <td>19035.png</td>\n",
       "      <td>fibroblast</td>\n",
       "      <td>0</td>\n",
       "      <td>0</td>\n",
       "    </tr>\n",
       "  </tbody>\n",
       "</table>\n",
       "</div>"
      ],
      "text/plain": [
       "    InstanceID  patientID  ImageName  cellTypeName  cellType  isCancerous\n",
       "0        22405          1  22405.png    fibroblast         0            0\n",
       "1        22406          1  22406.png    fibroblast         0            0\n",
       "2        22407          1  22407.png    fibroblast         0            0\n",
       "3        22408          1  22408.png    fibroblast         0            0\n",
       "4        22409          1  22409.png    fibroblast         0            0\n",
       "5        22410          1  22410.png    fibroblast         0            0\n",
       "6        22411          1  22411.png    fibroblast         0            0\n",
       "7        22412          1  22412.png    fibroblast         0            0\n",
       "8        22413          1  22413.png    fibroblast         0            0\n",
       "9        22414          1  22414.png    fibroblast         0            0\n",
       "10       22415          1  22415.png    fibroblast         0            0\n",
       "11       22417          1  22417.png  inflammatory         1            0\n",
       "12       22418          1  22418.png  inflammatory         1            0\n",
       "13       22419          1  22419.png  inflammatory         1            0\n",
       "14       22420          1  22420.png  inflammatory         1            0\n",
       "15       22421          1  22421.png  inflammatory         1            0\n",
       "16       22422          1  22422.png  inflammatory         1            0\n",
       "17       22423          1  22423.png        others         3            0\n",
       "18       22424          1  22424.png        others         3            0\n",
       "19       19035          2  19035.png    fibroblast         0            0"
      ]
     },
     "execution_count": 11,
     "metadata": {},
     "output_type": "execute_result"
    }
   ],
   "source": [
    "df_label.head(20)"
   ]
  },
  {
   "cell_type": "markdown",
   "id": "0385a602",
   "metadata": {},
   "source": [
    "### 📚 Reason: \n",
    "After finish cleaning the data, we should display the data to double check the data and figure out the count, mean, min , 25%, 50%, 75%, max to prepare for EDA step in later section."
   ]
  },
  {
   "cell_type": "markdown",
   "id": "99a094c3",
   "metadata": {},
   "source": [
    "<a id =\"VI\"></a>\n",
    "\n",
    "<h2 style = \"text-align:center; color:white; font-weight:600; padding:0.5em; background-color: #B02B00; border-radius:25px ; box-shadow: 0 0 20px 0 #ACA7CB; margin-right:3em; margin-bottom:1em\">III. Feature Enginnering</h2>"
   ]
  },
  {
   "cell_type": "markdown",
   "id": "a1622526",
   "metadata": {},
   "source": [
    "<a id =\"VI.1\"></a>\n",
    "\n",
    "<h3 style = \"color : #F06200; font-style:italic; letter-spacing:0.075em;\">1.Drop Unrealated columns to the target</h3>"
   ]
  },
  {
   "cell_type": "markdown",
   "id": "1fe28d3f",
   "metadata": {},
   "source": [
    "### 🔬 Observation: \n",
    "Since all columns in the dataset are neccessary => we do not need to drop any columns"
   ]
  },
  {
   "cell_type": "markdown",
   "id": "5c6ad113",
   "metadata": {},
   "source": [
    "<a id =\"VI.2\"></a>\n",
    "\n",
    "<h3 style = \"color : #F06200; font-style:italic; letter-spacing:0.075em;\">2.Class Imbalances</h3>"
   ]
  },
  {
   "cell_type": "code",
   "execution_count": 12,
   "id": "13eb407e",
   "metadata": {},
   "outputs": [
    {
     "name": "stdout",
     "output_type": "stream",
     "text": [
      "epithelial      4079\n",
      "inflammatory    2543\n",
      "fibroblast      1888\n",
      "others          1386\n",
      "Name: cellTypeName, dtype: int64\n",
      "epithelial      0.412187\n",
      "inflammatory    0.256973\n",
      "fibroblast      0.190784\n",
      "others          0.140057\n",
      "Name: cellTypeName, dtype: float64\n"
     ]
    }
   ],
   "source": [
    "print(df_label['cellTypeName'].value_counts())\n",
    "print(df_label['cellTypeName'].value_counts(normalize=True, dropna=False))"
   ]
  },
  {
   "cell_type": "markdown",
   "id": "ff8dc023",
   "metadata": {},
   "source": [
    "### 📚 Reason: \n",
    "The reason, we need to rebalance these classes value is the accuracy of the sepsis prediction might affected by the amount of values in one class. In other words , if one class has more values compare to the others , it is likely that we will receive the better prediction for this class instead of others, thus, the prediction for other clas might be worst. Thus,in this particular situation, since the difference between these classes are large, we can rebalance these classes using <strong>upsample method</strong>"
   ]
  },
  {
   "cell_type": "markdown",
   "id": "5673ecbc",
   "metadata": {},
   "source": [
    "### 🔬 Observation: \n",
    "Since the value for each cell type are extremely different from others (4079, 2543 , 1888 , 1386). Thus, we need to rebalance these classes. "
   ]
  },
  {
   "cell_type": "code",
   "execution_count": 13,
   "id": "43e3e795",
   "metadata": {},
   "outputs": [],
   "source": [
    "def resampleData (minority_value):\n",
    "    return resample(minority_value,\n",
    "                                 replace=True,     # sample with replacement\n",
    "                                 n_samples=4079,    # to match majority class\n",
    "                                 random_state=123) # reproducible results"
   ]
  },
  {
   "cell_type": "code",
   "execution_count": 15,
   "id": "e88507a6",
   "metadata": {},
   "outputs": [
    {
     "data": {
      "text/plain": [
       "epithelial      4079\n",
       "inflammatory    4079\n",
       "fibroblast      4079\n",
       "others          4079\n",
       "Name: cellTypeName, dtype: int64"
      ]
     },
     "execution_count": 15,
     "metadata": {},
     "output_type": "execute_result"
    }
   ],
   "source": [
    "# Separate 2 classes depend all total values\n",
    "majority_value = df_label[df_label.cellTypeName==\"epithelial\"]\n",
    "minority_value = df_label[df_label.cellTypeName==\"inflammatory\"]\n",
    "minority_value2 = df_label[df_label.cellTypeName==\"fibroblast\"]\n",
    "minority_value3 = df_label[df_label.cellTypeName==\"others\"]\n",
    " \n",
    "# Balance majority value with upsampled minority value\n",
    "df_label_balanced = pd.concat([majority_value, resampleData(minority_value),\n",
    "                               resampleData(minority_value2),\n",
    "                               resampleData(minority_value3)])\n",
    " \n",
    "# Show new value in these classes\n",
    "df_label_balanced.cellTypeName.value_counts()"
   ]
  },
  {
   "cell_type": "markdown",
   "id": "b4059c3a",
   "metadata": {},
   "source": [
    "### 🔬 Observation: \n",
    "After upsampling these classes, the value for all classes are the same, thus, we can move to the next step."
   ]
  },
  {
   "cell_type": "code",
   "execution_count": null,
   "id": "de4599a8",
   "metadata": {},
   "outputs": [],
   "source": [
    "train_iterator = get_dataframe_iterator(train_df, y_col='isCancerous', classes=['0','1'])\n",
    "val_iterator = get_dataframe_iterator(val_df, y_col='isCancerous', classes=['0','1'])\n",
    "test_iterator = get_dataframe_iterator(test_df, y_col='isCancerous', classes=['0','1'])"
   ]
  },
  {
   "cell_type": "code",
   "execution_count": null,
   "id": "8cfc1c29",
   "metadata": {},
   "outputs": [],
   "source": [
    "pip install tensorflow"
   ]
  },
  {
   "cell_type": "code",
   "execution_count": null,
   "id": "ec830e50",
   "metadata": {},
   "outputs": [],
   "source": [
    "from sklearn.model_selection import train_test_split\n",
    "from sklearn import metrics\n",
    "from sklearn.metrics import confusion_matrix, roc_curve, auc, roc_auc_score\n",
    "\n",
    "# Tensorflow\n",
    "#from sklearn.preprocessing import OneHotEncoder\n",
    "import tensorflow as tf\n",
    "from tensorflow import keras\n",
    "from tensorflow.keras.preprocessing.image import ImageDataGenerator\n",
    "from tensorflow.keras.layers import Conv2D, MaxPooling2D,ZeroPadding2D, AveragePooling2D, BatchNormalization\n",
    "from tensorflow.keras.models import Sequential\n",
    "from tensorflow.keras.callbacks import EarlyStopping, ReduceLROnPlateau, ModelCheckpoint\n",
    "from tensorflow.keras.optimizers import Adam\n",
    "from tensorflow.keras.layers import Dense, Dropout, Flatten, Activation, Add\n",
    "from keras import regularizers\n",
    "from keras import Input\n",
    "from tensorflow.keras import initializers\n",
    "from keras.initializers import GlorotUniform\n",
    "\n",
    "from keras import Model\n",
    "from keras import backend as K"
   ]
  },
  {
   "cell_type": "code",
   "execution_count": null,
   "id": "f8f871de",
   "metadata": {},
   "outputs": [],
   "source": [
    "def recall_m(y_true, y_pred):\n",
    "    true_positives = K.sum(K.round(K.clip(y_true * y_pred, 0, 1)))\n",
    "    possible_positives = K.sum(K.round(K.clip(y_true, 0, 1)))\n",
    "    recall = true_positives / (possible_positives + K.epsilon())\n",
    "    return recall\n",
    "\n",
    "def precision_m(y_true, y_pred):\n",
    "    true_positives = K.sum(K.round(K.clip(y_true * y_pred, 0, 1)))\n",
    "    predicted_positives = K.sum(K.round(K.clip(y_pred, 0, 1)))\n",
    "    precision = true_positives / (predicted_positives + K.epsilon())\n",
    "    return precision\n",
    "\n",
    "def f1_m(y_true, y_pred):\n",
    "    precision = precision_m(y_true, y_pred)\n",
    "    recall = recall_m(y_true, y_pred)\n",
    "    return 2*((precision*recall)/(precision+recall+K.epsilon()))"
   ]
  },
  {
   "cell_type": "code",
   "execution_count": null,
   "id": "01c7ac70",
   "metadata": {},
   "outputs": [],
   "source": [
    "METRICS = ['accuracy', precision_m, recall_m, f1_m]"
   ]
  },
  {
   "cell_type": "code",
   "execution_count": null,
   "id": "e163ad4b",
   "metadata": {},
   "outputs": [],
   "source": [
    "def fit_model(model, iterator, val_iterator, \n",
    "              epochs = 100, \n",
    "              export_dir = './export',\n",
    "              name = 'default'):\n",
    "    es = EarlyStopping(monitor='val_accuracy', \n",
    "                       mode='max', \n",
    "                       verbose=1, \n",
    "                       patience=10, \n",
    "                       restore_best_weights=True)\n",
    "    mc = ModelCheckpoint('{}/model_{}.h5'.format(export_dir, name), \n",
    "                         monitor='val_accuracy', \n",
    "                         mode='max', \n",
    "                         save_best_only=True)\n",
    "\n",
    "    history = model.fit_generator(\n",
    "        iterator,\n",
    "        validation_data = val_iterator,\n",
    "        epochs = epochs,\n",
    "        verbose = 1,\n",
    "        callbacks=[mc,es]\n",
    "    )\n",
    "    return history"
   ]
  },
  {
   "cell_type": "code",
   "execution_count": null,
   "id": "ede1d681",
   "metadata": {},
   "outputs": [],
   "source": [
    "print(df_label)"
   ]
  },
  {
   "cell_type": "code",
   "execution_count": null,
   "id": "4cd6e772",
   "metadata": {},
   "outputs": [],
   "source": [
    "# import cv2\n",
    "# import os\n",
    "# list_of_images = []\n",
    "\n",
    "# for index , path in enumerate(os.listdir('./patch_images')):\n",
    "#   image_path = os.path.join(\"./patch_images\", path)\n",
    "#   image = cv2.imread(image_path , cv2.IMREAD_GRAYSCALE)\n",
    "#   cv2.imshow('image', image)\n",
    "#   list_of_images.append(image)\n",
    "\n",
    "# list_of_images = np.asarray(list_of_images)\n",
    "# np.array(list_of_images).shape\n",
    "\n",
    "import cv2\n",
    "import os\n",
    "list_of_images = []\n",
    "\n",
    "for path in df_label['ImageName']:\n",
    "  image_path = os.path.join(\"./patch_images\", path)\n",
    "  image = cv2.imread(image_path , cv2.IMREAD_GRAYSCALE)\n",
    "  list_of_images.append(image)\n",
    "\n",
    "list_of_images = np.asarray(list_of_images)\n",
    "np.array(list_of_images).shape"
   ]
  },
  {
   "cell_type": "code",
   "execution_count": null,
   "id": "8b18b97f",
   "metadata": {},
   "outputs": [],
   "source": [
    "list_of_images = np.reshape(list_of_images,  (-1 , 27 * 27))\n",
    "list_of_images = pd.DataFrame(list_of_images)"
   ]
  },
  {
   "cell_type": "code",
   "execution_count": null,
   "id": "da1dc5ec",
   "metadata": {},
   "outputs": [],
   "source": [
    "from sklearn.model_selection import train_test_split\n",
    "from tensorflow.keras.utils import to_categorical\n",
    "\n",
    "cancer_training_X , cancer_test_X, cancer_training_Y , cancer_test_Y = train_test_split(list_of_images, df_label['isCancerous'], train_size = 0.8 , random_state = 9999, shuffle = True)\n",
    "\n",
    "print(\"Training X shape: \" , cancer_training_X.shape)\n",
    "print(\"Training Y shape: \" , cancer_training_Y.shape)\n",
    "print(\"Testing X shape: \" , cancer_test_X.shape)\n",
    "print(\"Testing Y shape: \" , cancer_test_Y.shape)"
   ]
  },
  {
   "cell_type": "code",
   "execution_count": null,
   "id": "97b68104",
   "metadata": {},
   "outputs": [],
   "source": [
    "from xgboost import XGBClassifier\n",
    "from sklearn.metrics import accuracy_score\n",
    "\n",
    "# fit model no training data\n",
    "model_xgboost_t1 = XGBClassifier(\n",
    "    learning_rate=0.01, \n",
    "    n_estimators=600, \n",
    "    objective='binary:logistic',\n",
    "    silent=True, nthread=-1 , gamma = 1, max_depth = 5, min_child_weight = 1)\n",
    "model_xgboost_t1.fit(cancer_training_X, cancer_training_Y)\n",
    "\n",
    "# make predictions for test data\n",
    "xgboostPred = model_xgboost_t1.predict(cancer_test_X)\n",
    "predictions = [round(value) for value in xgboostPred]\n",
    "# evaluate predictions\n",
    "accuracy = accuracy_score(cancer_test_Y, predictions)\n",
    "print(\"Accuracy: %.2f%%\" % (accuracy * 100.0))"
   ]
  },
  {
   "cell_type": "code",
   "execution_count": null,
   "id": "946b6b16",
   "metadata": {},
   "outputs": [],
   "source": []
  },
  {
   "cell_type": "code",
   "execution_count": null,
   "id": "1eb0525e",
   "metadata": {},
   "outputs": [],
   "source": []
  }
 ],
 "metadata": {
  "kernelspec": {
   "display_name": "Python 3 (ipykernel)",
   "language": "python",
   "name": "python3"
  },
  "language_info": {
   "codemirror_mode": {
    "name": "ipython",
    "version": 3
   },
   "file_extension": ".py",
   "mimetype": "text/x-python",
   "name": "python",
   "nbconvert_exporter": "python",
   "pygments_lexer": "ipython3",
   "version": "3.9.7"
  }
 },
 "nbformat": 4,
 "nbformat_minor": 5
}
