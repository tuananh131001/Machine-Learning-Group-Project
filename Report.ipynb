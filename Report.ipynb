{
 "cells": [
  {
   "cell_type": "markdown",
   "id": "765f9435",
   "metadata": {},
   "source": [
    "![Cancer](https://media2.giphy.com/media/sCqnpiUFN228E/giphy.gif)"
   ]
  },
  {
   "cell_type": "markdown",
   "id": "b978f40a",
   "metadata": {},
   "source": [
    "# Introduction"
   ]
  },
  {
   "cell_type": "markdown",
   "id": "ad110d1d",
   "metadata": {},
   "source": [
    "Among the most important areas in the world is human health. Exploring the methods for preventing and detecting health problems has sparked a lot of interest. Cancer is the most common illness that has a significant impact on human health. A malignant tumor is a cancerous tumor that develops as a result of the disease. Colon cancer, together with breast cancer and lung cancer, is the third most deadly disease in the United States, killing 49,190 people in 2016 [1]. This is a cancer that begins in the large intestine colon, which is the last component of the digestive system.\n",
    "\n",
    "The machine learning technique should be used in this assignment to aid in the detection of malignant cells and the differentiation of cell types in colon cancer. Deep learning algorithms such as AlexNet, Resnet50, and VGG19 will all be developed and evaluated in this notebook, with XGBoost being the sole non-deep learning option to tackle the issue."
   ]
  },
  {
   "cell_type": "markdown",
   "id": "eceb03b9",
   "metadata": {},
   "source": [
    "# Import necessary library"
   ]
  },
  {
   "cell_type": "code",
   "execution_count": 1,
   "id": "b3f49e51",
   "metadata": {},
   "outputs": [],
   "source": [
    "import pandas as pd\n",
    "import numpy as np\n",
    "import matplotlib.pyplot as plt\n",
    "import sklearn as sk\n",
    "import seaborn as sns\n",
    "import warnings\n",
    "warnings.filterwarnings(\"ignore\")"
   ]
  },
  {
   "cell_type": "code",
   "execution_count": 2,
   "id": "f8da6f74",
   "metadata": {},
   "outputs": [
    {
     "name": "stdout",
     "output_type": "stream",
     "text": [
      "Con Chó Châu\n"
     ]
    }
   ],
   "source": [
    "print('Con Chó Châu')"
   ]
  },
  {
   "cell_type": "markdown",
   "id": "71803764",
   "metadata": {},
   "source": [
    "# Google"
   ]
  },
  {
   "cell_type": "code",
   "execution_count": null,
   "id": "ac63a8e8",
   "metadata": {},
   "outputs": [],
   "source": [
    "fousaddihnaqsopidchniasdfhipashndcaspicdniascddnap;cfnp[asjmncpasdvcpisadnpviandpifcnaspcvn asdpnv;pasnvcpoiasdnvcp[jmn[pfcjmnap;fcnpasdfnpasdnmvp]]]"
   ]
  },
  {
   "cell_type": "code",
   "execution_count": null,
   "id": "892c89ba",
   "metadata": {},
   "outputs": [],
   "source": [
    "adl;iasfhcilasdhchjchnalichnalchnlaksnclkahdlqahwanpcjnc"
   ]
  },
  {
   "cell_type": "code",

   "execution_count": 3,
   "id": "482e5bda-daf4-4143-be96-d495c486a3fa",

   "metadata": {},
   "outputs": [
    {
     "name": "stdout",
     "output_type": "stream",
     "text": [
      "Con Cho1 Sir bop dai quai\n"
     ]
    }
   ],
   "source": [
    "print('Con Cho1 Sir bop dai quai');"
   ]
  },
  {
   "cell_type": "code",
   "execution_count": 4,
   "id": "816f2f7c",
   "metadata": {},
   "outputs": [
    {
     "name": "stdout",
     "output_type": "stream",
     "text": [
      "tat ca la tai con cho sir\n"
     ]
    }
   ],
   "source": [
    "print('tat ca la tai con cho sir');"
   ]
  },
  {
   "cell_type": "code",
   "execution_count": null,
   "id": "5d9b9050",
   "metadata": {},
   "outputs": [],
   "source": [
    "ascdascasvc ascasdvcdsa"
   ]
  }
 ],
 "metadata": {
  "kernelspec": {
   "display_name": "Python 3 (ipykernel)",
   "language": "python",
   "name": "python3"
  },
  "language_info": {
   "codemirror_mode": {
    "name": "ipython",
    "version": 3
   },
   "file_extension": ".py",
   "mimetype": "text/x-python",
   "name": "python",
   "nbconvert_exporter": "python",
   "pygments_lexer": "ipython3",
   "version": "3.8.12"
  }
 },
 "nbformat": 4,
 "nbformat_minor": 5
}
